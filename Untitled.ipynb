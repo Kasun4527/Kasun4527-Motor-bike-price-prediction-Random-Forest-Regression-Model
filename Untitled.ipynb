{
 "cells": [
  {
   "cell_type": "code",
   "execution_count": 1,
   "id": "765ef4a4-c128-4f13-8ffb-637ffd22bc80",
   "metadata": {},
   "outputs": [],
   "source": [
    "import pandas as pd"
   ]
  },
  {
   "cell_type": "code",
   "execution_count": 2,
   "id": "413945f0-83da-4475-b8b1-23efe46327cc",
   "metadata": {},
   "outputs": [],
   "source": [
    "df=pd.read_csv(\"bike.csv\")"
   ]
  },
  {
   "cell_type": "code",
   "execution_count": 3,
   "id": "b2e89ec0-6a05-4b1d-89d1-b70a6ad18e73",
   "metadata": {},
   "outputs": [
    {
     "name": "stdout",
     "output_type": "stream",
     "text": [
      "<class 'pandas.core.frame.DataFrame'>\n",
      "RangeIndex: 34917 entries, 0 to 34916\n",
      "Data columns (total 10 columns):\n",
      " #   Column      Non-Null Count  Dtype  \n",
      "---  ------      --------------  -----  \n",
      " 0   price       34917 non-null  int64  \n",
      " 1   mileage     34917 non-null  int64  \n",
      " 2   power       28598 non-null  float64\n",
      " 3   make_model  34917 non-null  object \n",
      " 4   date        34917 non-null  object \n",
      " 5   fuel        31727 non-null  object \n",
      " 6   gear        12847 non-null  object \n",
      " 7   offer_type  34917 non-null  object \n",
      " 8   version     17413 non-null  object \n",
      " 9   link        34917 non-null  object \n",
      "dtypes: float64(1), int64(2), object(7)\n",
      "memory usage: 2.7+ MB\n",
      "None\n"
     ]
    }
   ],
   "source": [
    "print(df.info())"
   ]
  },
  {
   "cell_type": "code",
   "execution_count": 5,
   "id": "89fc819c-bd87-41e5-9f6c-ce0681ce173f",
   "metadata": {},
   "outputs": [
    {
     "name": "stdout",
     "output_type": "stream",
     "text": [
      "              price       mileage          power\n",
      "count  3.491700e+04  3.491700e+04   28598.000000\n",
      "mean   4.568532e+04  2.183175e+04     206.157598\n",
      "std    4.850120e+06  2.059421e+05    9371.426466\n",
      "min    1.000000e+00  0.000000e+00       1.000000\n",
      "25%    6.999000e+03  2.932000e+03      50.000000\n",
      "50%    9.920000e+03  1.100000e+04      90.000000\n",
      "75%    1.259000e+04  2.500000e+04     125.000000\n",
      "max    8.888889e+08  9.999999e+06  913595.000000\n"
     ]
    }
   ],
   "source": [
    "print(df.describe())"
   ]
  },
  {
   "cell_type": "code",
   "execution_count": 6,
   "id": "58f4bd4f-047f-4844-a202-d6c6dfebd21d",
   "metadata": {},
   "outputs": [
    {
     "name": "stdout",
     "output_type": "stream",
     "text": [
      "price             0\n",
      "mileage           0\n",
      "power          6319\n",
      "make_model        0\n",
      "date              0\n",
      "fuel           3190\n",
      "gear          22070\n",
      "offer_type        0\n",
      "version       17504\n",
      "link              0\n",
      "dtype: int64\n"
     ]
    }
   ],
   "source": [
    "print(df.isnull().sum())"
   ]
  },
  {
   "cell_type": "code",
   "execution_count": 7,
   "id": "b666b3a9-05ee-426f-b4ab-56a05d95e7ed",
   "metadata": {},
   "outputs": [],
   "source": [
    "df = df.drop(columns=['gear', 'version'])"
   ]
  },
  {
   "cell_type": "code",
   "execution_count": 8,
   "id": "5e358293-b48b-4afd-bb2a-3e0b321a978c",
   "metadata": {},
   "outputs": [
    {
     "name": "stdout",
     "output_type": "stream",
     "text": [
      "price            0\n",
      "mileage          0\n",
      "power         6319\n",
      "make_model       0\n",
      "date             0\n",
      "fuel          3190\n",
      "offer_type       0\n",
      "link             0\n",
      "dtype: int64\n"
     ]
    }
   ],
   "source": [
    "print(df.isnull().sum())"
   ]
  },
  {
   "cell_type": "code",
   "execution_count": 9,
   "id": "89d657d0-10c0-47bb-a845-88727ba5a103",
   "metadata": {},
   "outputs": [
    {
     "name": "stderr",
     "output_type": "stream",
     "text": [
      "C:\\Users\\Asus\\AppData\\Local\\Temp\\ipykernel_12476\\79258755.py:1: FutureWarning: A value is trying to be set on a copy of a DataFrame or Series through chained assignment using an inplace method.\n",
      "The behavior will change in pandas 3.0. This inplace method will never work because the intermediate object on which we are setting values always behaves as a copy.\n",
      "\n",
      "For example, when doing 'df[col].method(value, inplace=True)', try using 'df.method({col: value}, inplace=True)' or df[col] = df[col].method(value) instead, to perform the operation inplace on the original object.\n",
      "\n",
      "\n",
      "  df['power'].fillna(df['power'].mean(), inplace=True)\n"
     ]
    }
   ],
   "source": [
    "df['power'].fillna(df['power'].mean(), inplace=True)"
   ]
  },
  {
   "cell_type": "code",
   "execution_count": 11,
   "id": "2460f42d-daab-43e0-b064-9fb9ff03c43b",
   "metadata": {},
   "outputs": [],
   "source": [
    "df = df.drop(columns=['fuel'])"
   ]
  },
  {
   "cell_type": "code",
   "execution_count": 12,
   "id": "a4021eb6-2475-4bd6-a398-86b6f9dbc83f",
   "metadata": {},
   "outputs": [
    {
     "name": "stdout",
     "output_type": "stream",
     "text": [
      "price         0\n",
      "mileage       0\n",
      "power         0\n",
      "make_model    0\n",
      "date          0\n",
      "offer_type    0\n",
      "link          0\n",
      "dtype: int64\n"
     ]
    }
   ],
   "source": [
    "print(df.isnull().sum())"
   ]
  },
  {
   "cell_type": "code",
   "execution_count": 13,
   "id": "95a92d8b-6486-4b27-a680-b42460e75ab4",
   "metadata": {},
   "outputs": [
    {
     "name": "stdout",
     "output_type": "stream",
     "text": [
      "<class 'pandas.core.frame.DataFrame'>\n",
      "RangeIndex: 34917 entries, 0 to 34916\n",
      "Data columns (total 7 columns):\n",
      " #   Column      Non-Null Count  Dtype  \n",
      "---  ------      --------------  -----  \n",
      " 0   price       34917 non-null  int64  \n",
      " 1   mileage     34917 non-null  int64  \n",
      " 2   power       34917 non-null  float64\n",
      " 3   make_model  34917 non-null  object \n",
      " 4   date        34917 non-null  object \n",
      " 5   offer_type  34917 non-null  object \n",
      " 6   link        34917 non-null  object \n",
      "dtypes: float64(1), int64(2), object(4)\n",
      "memory usage: 1.9+ MB\n",
      "None\n"
     ]
    }
   ],
   "source": [
    "print(df.info())"
   ]
  },
  {
   "cell_type": "code",
   "execution_count": 14,
   "id": "6655bc59-7c06-4559-91f7-f83cae39aeeb",
   "metadata": {},
   "outputs": [
    {
     "name": "stdout",
     "output_type": "stream",
     "text": [
      "['Honda' 'BMW F 800 GT' 'Nova Motors Retro Star' ... 'Daelim Delfino 125'\n",
      " 'Big Dog Bulldog' 'Matchless G 12']\n"
     ]
    }
   ],
   "source": [
    "x=df['make_model'].unique()\n",
    "print(x)"
   ]
  },
  {
   "cell_type": "code",
   "execution_count": 15,
   "id": "8d59464e-6149-466f-9276-cf72b7ef097f",
   "metadata": {},
   "outputs": [],
   "source": [
    "df=df.drop(columns=['make_model'])"
   ]
  },
  {
   "cell_type": "code",
   "execution_count": 16,
   "id": "61720b03-c9f9-421d-b08f-5a9489247eef",
   "metadata": {},
   "outputs": [
    {
     "name": "stdout",
     "output_type": "stream",
     "text": [
      "['03/2020' '09/2018' '10/2019' '03/2016' '08/2009' '07/2010' '12/2021'\n",
      " '05/2018' '10/2016' '06/2019' '07/2019' '03/2021' '05/2015' '09/2010'\n",
      " '07/2018' '06/2018' '02/1996' '01/2019' '01/2004' '05/2004' '01/2021'\n",
      " '06/2009' '03/2010' '04/1989' '07/2016' '06/2020' '03/2012' '05/2009'\n",
      " '07/2003' '07/2012' '07/1980' '05/2019' '01/2016' '06/2012' '01/1983'\n",
      " '01/2017' '05/2021' '01/2000' '05/2020' '06/2016' '11/2018' '09/2017'\n",
      " '07/2000' '09/2016' '06/2013' '02/2013' '08/2017' '12/2018' '04/2013'\n",
      " '10/2018' '04/2012' '02/2021' '06/2021' '03/2011' '10/2020' '11/2010'\n",
      " '01/2010' '01/2013' '01/2011' '01/2020' '05/2007' '03/2017' '03/2005'\n",
      " '11/2013' '06/2011' '02/2017' '04/2018' '07/2014' '06/2015' '07/2011'\n",
      " '04/2011' '11/2014' '09/2011' '04/2017' '06/1985' '11/2011' '03/2014'\n",
      " '05/2014' '08/2018' '08/2016' '12/1957' '07/2020' '07/1960' '05/2010'\n",
      " '07/2002' '12/2020' '10/2012' '05/2013' '03/2019' '07/2015' '07/2009'\n",
      " '09/2015' '01/2018' '11/2020' '08/2010' '09/2012' '06/2014' '04/2020'\n",
      " '08/2019' '02/2020' '08/2011' '04/2016' '04/2005' '01/2006' '03/2009'\n",
      " '12/2013' '02/2012' '11/2009' '06/2017' '04/2014' '12/2017' '03/1995'\n",
      " '03/2018' '06/1970' '12/2016' '01/2015' '10/2017' '04/1988' '01/1986'\n",
      " '10/2015' '08/2014' '08/2020' '07/2008' '08/1956' '03/2015' '10/2014'\n",
      " '05/2016' '02/2005' '06/1989' '04/2021' '03/2013' '05/2003' '04/2004'\n",
      " '09/2019' '08/2015' '03/1977' '09/2014' '05/1991' '06/2010' '02/2009'\n",
      " '01/1963' '07/2006' '07/1998' '04/2015' '04/2019' '10/1976' '12/1991'\n",
      " '12/2019' '03/1987' '07/2013' '12/2015' '02/2014' '10/2010' '08/2012'\n",
      " '05/2012' '05/1980' '01/2003' '04/2007' '06/1983' '02/1998' '02/2018'\n",
      " '01/2001' '06/1972' '09/1978' '08/2013' '10/2013' '07/2021' '11/2019'\n",
      " '02/2015' '07/1972' '10/2011' '04/2009' '01/1941' '04/2008' '11/2016'\n",
      " '01/2009' '02/1983' '09/2020' '01/2014' '04/2010' '07/2005' '06/1999'\n",
      " '05/1999' '05/2017' '05/1993' '01/2002' '07/2017' '02/1978' '01/1952'\n",
      " '05/1992' '08/1999' '03/1997' '07/1938' '09/1999' '11/2017' '11/2007'\n",
      " '04/1967' '01/1937' '01/2012' '04/1969' '09/2013' '07/1995' '06/2004'\n",
      " '06/1969' '- (First Registration)' '05/2005' '06/1973' '01/1984'\n",
      " '02/2000' '10/2005' '03/1981' '02/2010' '10/1991' '07/2001' '06/2006'\n",
      " '01/1976' '05/1990' '07/1973' '08/1983' '07/1984' '07/1997' '01/1970'\n",
      " '04/1972' '06/2008' '06/2002' '12/2010' '03/2004' '12/2009' '02/2016'\n",
      " '09/1971' '03/1991' '10/2006' '04/2006' '07/2004' '12/2014' '09/2009'\n",
      " '02/2019' '03/2008' '12/2007' '01/2008' '03/1993' '03/2007' '02/1969'\n",
      " '02/1973' '09/1981' '06/1993' '05/2000' '04/1998' '07/1971' '10/2009'\n",
      " '12/2011' '12/1940' '10/1982' '11/1998' '10/1969' '03/2003' '09/2008'\n",
      " '05/1983' '02/1930' '05/1998' '01/1975' '05/2011' '04/2003' '03/2006'\n",
      " '03/1999' '01/1960' '05/1974' '11/2015' '07/1974' '05/2008' '12/2008'\n",
      " '11/2012' '01/1929' '08/1998' '02/1999' '01/2007' '06/2003' '05/1972'\n",
      " '06/2007' '04/2001' '02/2004' '05/2002' '05/2006' '05/1973' '07/2007'\n",
      " '03/2000' '10/1996' '06/1995' '09/2001' '10/2000' '10/1998' '05/1967'\n",
      " '02/2002' '04/1995' '06/2005' '06/1982' '02/1993' '04/1999' '02/1991'\n",
      " '06/1956' '09/2007' '01/1994' '07/1992' '05/1979' '10/1979' '05/1997'\n",
      " '10/2008' '07/1982' '12/2002' '02/2007' '01/1991' '08/2004' '12/1997'\n",
      " '02/2011' '01/1972' '12/2012' '08/2007' '09/1974' '05/1956' '04/2002'\n",
      " '07/1990' '05/1977' '03/2002' '06/1986' '03/2001' '04/1991' '02/2006'\n",
      " '04/1948' '09/2002' '03/1990' '08/2006' '01/1971' '11/1952' '01/1973'\n",
      " '04/1976' '03/1998' '06/1971' '08/2000' '07/1978' '07/1991' '01/1920'\n",
      " '01/1955' '03/1986' '06/1964' '02/1997' '06/1974' '08/2008' '01/1956'\n",
      " '12/2006' '02/1974' '07/1956' '04/1993' '07/1939' '06/2000' '10/1987'\n",
      " '02/1970' '02/1988' '06/1936' '07/1986' '07/1976' '01/1993' '10/1959'\n",
      " '06/1991' '12/1958' '04/1997' '06/1990' '04/1987' '08/2005' '10/1992'\n",
      " '12/1974' '01/1992' '02/1984' '01/1953' '02/2008' '12/1999' '07/1983'\n",
      " '06/1975' '07/1958' '01/1998' '01/1987' '06/1937' '03/1980' '03/1974'\n",
      " '04/1983' '03/1933' '02/1992' '03/1989' '04/1996' '11/1993' '06/1976'\n",
      " '09/2006' '07/1988' '04/1947' '07/1979' '03/1970' '03/1973' '03/1938'\n",
      " '05/1984' '05/1994' '05/1971' '07/1994' '01/1981' '05/1986' '08/1994'\n",
      " '06/1950' '10/2007' '09/1997' '02/1975' '04/1979' '08/1993' '03/1972'\n",
      " '04/1940' '07/1977' '01/1989' '03/1996' '12/1934' '07/1987' '06/1992'\n",
      " '11/2006' '07/1996' '03/1979' '01/1943' '04/2000' '01/1985' '05/1937'\n",
      " '08/1997' '05/1978' '04/1975' '11/1975' '01/1980' '09/1976' '06/1994'\n",
      " '07/1981' '05/1995' '01/1974' '10/1951' '04/1982' '03/1988' '09/1982'\n",
      " '07/1985' '03/1966' '09/1975' '07/1999' '06/1960' '06/1981' '11/1957'\n",
      " '05/1996' '07/1963' '03/1983' '03/1994' '09/1986' '05/1940' '07/1944'\n",
      " '03/1939' '04/1984' '04/1992' '12/1998' '06/1988' '07/1975' '04/1913'\n",
      " '10/1989' '09/1964' '07/1934' '12/1973' '03/1963' '08/2003' '04/1956'\n",
      " '06/1996' '04/1980' '10/1999' '02/1950' '06/1978' '08/1991' '01/1957'\n",
      " '09/2003' '11/1999' '11/1995' '09/2004' '02/1995' '08/1996' '01/1979'\n",
      " '08/1995' '08/1978' '11/2003' '06/1965' '09/2000' '02/1976' '02/1990'\n",
      " '01/1990' '01/1939' '12/1985' '04/1936' '01/1969' '06/1977' '12/1995'\n",
      " '05/1982' '11/2008' '10/1988' '02/2003' '06/1959' '01/1997' '09/1995'\n",
      " '07/1968' '10/2003' '01/1977' '06/1998' '01/2005' '05/1917' '10/2002'\n",
      " '05/1985' '01/1965' '08/2002' '05/1981' '05/1953' '06/1980' '08/1973'\n",
      " '04/1981' '03/1982' '06/1997' '02/1982' '01/1946' '01/1950' '06/1966'\n",
      " '10/1995' '01/1996' '01/1988' '09/2021' '02/1962' '04/1978' '12/1941'\n",
      " '03/1992' '03/1971' '06/1957' '04/1974' '01/1947' '07/1967' '03/1975'\n",
      " '02/1986' '10/2001' '09/1958' '10/1941' '04/1985' '09/1969' '07/1948'\n",
      " '08/1981' '07/1989' '01/2022' '01/1954' '07/1955' '12/1987' '01/1959'\n",
      " '08/1977' '07/1964' '07/1954' '02/1929' '05/1947' '02/1948' '11/2000'\n",
      " '04/1959' '12/2001' '05/1989' '01/1967' '09/1977' '10/2004' '04/1970'\n",
      " '02/1979' '01/1982' '09/1962' '03/1984' '10/1997' '07/1961' '10/1972'\n",
      " '09/1948' '08/1992' '06/1958' '02/2001' '12/1967' '03/1959' '01/1999'\n",
      " '08/2001' '02/1961' '03/1967' '12/1960' '11/2001' '05/1988' '01/1951'\n",
      " '04/1964' '07/1969' '04/1914' '07/1993' '01/1995' '11/2004' '05/1975'\n",
      " '01/1931' '02/1940' '10/1929' '05/1976' '09/2005' '02/1927' '11/1992'\n",
      " '05/2001' '09/1973' '07/1965' '12/1951' '12/1975' '04/1950' '12/1976'\n",
      " '10/1962' '08/1980' '09/1992' '09/1996' '10/2021' '04/1960' '12/1970'\n",
      " '04/1957' '05/1960' '06/2001' '07/1928' '01/1958' '04/1990' '08/1987'\n",
      " '06/1955' '11/1976' '05/1952' '12/1984' '12/1927' '04/1961' '04/1949'\n",
      " '08/1982' '08/1976' '10/1950' '02/1994' '12/1977' '01/1978' '11/2005'\n",
      " '07/1951' '06/1938' '12/1938' '07/1950' '02/1989' '08/2021' '10/1957'\n",
      " '06/1928' '06/1953' '11/1955' '12/1954' '08/1963' '05/1963' '11/1987'\n",
      " '09/1984' '07/1966' '03/1968' '06/1984' '08/1947' '07/1952' '08/1975'\n",
      " '01/1968' '05/1955' '06/1939' '12/1959' '05/1961' '06/1942' '04/1994'\n",
      " '05/1930' '02/1980' '08/1972' '06/1979' '12/1978' '12/1982' '05/1951'\n",
      " '03/1976' '09/1966' '11/1997' '08/1958' '12/1981' '11/1980' '06/1954'\n",
      " '02/1958' '10/1956' '01/1940' '09/1993' '02/1985' '06/1947' '04/1935'\n",
      " '04/1986' '12/2005' '05/1929' '03/1958' '03/1946' '06/1907' '10/1974'\n",
      " '12/1979' '03/1954' '12/2004' '11/1973' '08/1953' '12/1946' '07/1926'\n",
      " '11/1990' '06/1949' '06/1967' '05/1987' '04/1958' '04/1977' '03/1969'\n",
      " '09/1970' '08/1950' '12/1972' '03/1985' '01/1966' '08/1974' '07/1959'\n",
      " '11/1979' '08/1986' '10/1994' '12/1968' '12/1956' '05/1958' '09/1987'\n",
      " '12/1993' '03/1948' '02/1971' '04/1965' '09/1967' '08/1939' '10/1975'\n",
      " '11/1994' '10/1971' '09/1963' '08/1984' '10/1980' '04/1973' '08/1942'\n",
      " '06/1943' '09/1926' '07/1946' '06/1961' '11/1970' '04/1939' '01/1934'\n",
      " '02/1977' '08/1989' '04/1971' '09/1983' '02/1959' '11/2002' '02/1942'\n",
      " '09/1989' '07/1970' '08/1955' '03/1928' '03/1978' '04/1955' '01/1913'\n",
      " '11/1989' '11/1971' '02/1981' '07/1936' '06/1951' '12/1939' '05/1933'\n",
      " '08/1961' '09/1988' '01/1936' '03/1941' '07/1929' '11/1974' '12/2000'\n",
      " '12/1962' '01/1942' '07/1940' '11/1981' '05/1936' '02/1987' '09/1953'\n",
      " '01/1944' '08/1971' '02/1960' '10/1981' '04/1952' '06/1935' '05/1954'\n",
      " '07/1943']\n"
     ]
    }
   ],
   "source": [
    "x=df['date'].unique()\n",
    "print(x)"
   ]
  },
  {
   "cell_type": "code",
   "execution_count": 17,
   "id": "b711eff3-6e85-4037-a0e0-03cb85ffe50b",
   "metadata": {},
   "outputs": [],
   "source": [
    "df=df.drop(columns=['date'])"
   ]
  },
  {
   "cell_type": "code",
   "execution_count": 18,
   "id": "e4c16665-3e4a-44f4-9af6-07fc58ccb975",
   "metadata": {},
   "outputs": [
    {
     "name": "stdout",
     "output_type": "stream",
     "text": [
      "<class 'pandas.core.frame.DataFrame'>\n",
      "RangeIndex: 34917 entries, 0 to 34916\n",
      "Data columns (total 5 columns):\n",
      " #   Column      Non-Null Count  Dtype  \n",
      "---  ------      --------------  -----  \n",
      " 0   price       34917 non-null  int64  \n",
      " 1   mileage     34917 non-null  int64  \n",
      " 2   power       34917 non-null  float64\n",
      " 3   offer_type  34917 non-null  object \n",
      " 4   link        34917 non-null  object \n",
      "dtypes: float64(1), int64(2), object(2)\n",
      "memory usage: 1.3+ MB\n",
      "None\n"
     ]
    }
   ],
   "source": [
    "print(df.info())"
   ]
  },
  {
   "cell_type": "code",
   "execution_count": 19,
   "id": "0cc51d37-3716-4040-8655-0643d5d59266",
   "metadata": {},
   "outputs": [
    {
     "name": "stdout",
     "output_type": "stream",
     "text": [
      "['Demonstration' 'Used' 'Pre-registered' 'New' 'Antique / Classic']\n"
     ]
    }
   ],
   "source": [
    "x=df['offer_type'].unique()\n",
    "print(x)"
   ]
  },
  {
   "cell_type": "code",
   "execution_count": 20,
   "id": "d6fcc205-1a7f-4fb8-badf-82f4dd872d08",
   "metadata": {},
   "outputs": [
    {
     "name": "stdout",
     "output_type": "stream",
     "text": [
      "['/offers/honda-others-cbr1000rr-r-fireblade-sp-gasoline-red-c867308b-8d2f-42bd-943a-eb278d5dbe2d'\n",
      " '/offers/bmw-f-800-gt-gasoline-white-f65273c6-601b-7e55-e053-0100007f0a0f'\n",
      " '/offers/nova-motors-retro-star-gasoline-red-f8e797ba-ec6f-9427-e053-0100007f83cc'\n",
      " ...\n",
      " '/offers/harley-davidson-iron-883-gasoline-black-f5f508c4-4321-9e7e-e053-0100007f53b2'\n",
      " '/offers/triumph-bonneville-t100-black-mit-garantie-gasoline-black-a3513cc6-0fa2-4264-e053-0100007fb629'\n",
      " '/offers/yamaha-tmax-530-gasoline-black-eeb19fbc-a17d-574c-e053-0100007f4c19']\n"
     ]
    }
   ],
   "source": [
    "x=df['link'].unique()\n",
    "print(x)"
   ]
  },
  {
   "cell_type": "code",
   "execution_count": 21,
   "id": "0751f1bc-63e8-40bd-9ac0-fcf106cafc5e",
   "metadata": {},
   "outputs": [],
   "source": [
    "df=df.drop(columns=['link'])"
   ]
  },
  {
   "cell_type": "code",
   "execution_count": 22,
   "id": "efb3ab41-1983-4d56-a33b-4e11dd979499",
   "metadata": {},
   "outputs": [
    {
     "name": "stdout",
     "output_type": "stream",
     "text": [
      "<class 'pandas.core.frame.DataFrame'>\n",
      "RangeIndex: 34917 entries, 0 to 34916\n",
      "Data columns (total 4 columns):\n",
      " #   Column      Non-Null Count  Dtype  \n",
      "---  ------      --------------  -----  \n",
      " 0   price       34917 non-null  int64  \n",
      " 1   mileage     34917 non-null  int64  \n",
      " 2   power       34917 non-null  float64\n",
      " 3   offer_type  34917 non-null  object \n",
      "dtypes: float64(1), int64(2), object(1)\n",
      "memory usage: 1.1+ MB\n",
      "None\n"
     ]
    }
   ],
   "source": [
    "print(df.info())"
   ]
  },
  {
   "cell_type": "code",
   "execution_count": 23,
   "id": "06eb1aea-deaa-400c-a078-144ba581e74a",
   "metadata": {},
   "outputs": [],
   "source": [
    "df = pd.get_dummies(df, columns=['offer_type'], drop_first=True)"
   ]
  },
  {
   "cell_type": "code",
   "execution_count": 24,
   "id": "22ad39cd-1c74-46cf-ba96-e74a0881d076",
   "metadata": {},
   "outputs": [
    {
     "name": "stdout",
     "output_type": "stream",
     "text": [
      "<class 'pandas.core.frame.DataFrame'>\n",
      "RangeIndex: 34917 entries, 0 to 34916\n",
      "Data columns (total 7 columns):\n",
      " #   Column                     Non-Null Count  Dtype  \n",
      "---  ------                     --------------  -----  \n",
      " 0   price                      34917 non-null  int64  \n",
      " 1   mileage                    34917 non-null  int64  \n",
      " 2   power                      34917 non-null  float64\n",
      " 3   offer_type_Demonstration   34917 non-null  bool   \n",
      " 4   offer_type_New             34917 non-null  bool   \n",
      " 5   offer_type_Pre-registered  34917 non-null  bool   \n",
      " 6   offer_type_Used            34917 non-null  bool   \n",
      "dtypes: bool(4), float64(1), int64(2)\n",
      "memory usage: 954.9 KB\n",
      "None\n"
     ]
    }
   ],
   "source": [
    "print(df.info())"
   ]
  },
  {
   "cell_type": "code",
   "execution_count": 25,
   "id": "29b3fafb-b55f-45f9-a2bb-611e91e55014",
   "metadata": {},
   "outputs": [],
   "source": [
    "X=df.drop(columns=['price'])\n",
    "Y=df['price']"
   ]
  },
  {
   "cell_type": "code",
   "execution_count": 28,
   "id": "07b64427-5d47-4dd6-8886-6eb8e1dfe999",
   "metadata": {},
   "outputs": [],
   "source": [
    "from sklearn.model_selection import train_test_split\n",
    "X_train, X_test, Y_train, Y_test = train_test_split(X, Y, test_size=0.4, random_state=42)"
   ]
  },
  {
   "cell_type": "code",
   "execution_count": 29,
   "id": "d181a568-1e28-4fb7-994c-f1e4d8984e98",
   "metadata": {},
   "outputs": [],
   "source": [
    "from sklearn.preprocessing import StandardScaler\n",
    "scaler = StandardScaler()\n",
    "X_train=scaler.fit_transform(X_train)\n",
    "X_test=scaler.transform(X_test)"
   ]
  },
  {
   "cell_type": "code",
   "execution_count": 31,
   "id": "cea1a770-77a4-41d9-802c-536df1cc0cbe",
   "metadata": {},
   "outputs": [
    {
     "data": {
      "text/html": [
       "<style>#sk-container-id-1 {\n",
       "  /* Definition of color scheme common for light and dark mode */\n",
       "  --sklearn-color-text: black;\n",
       "  --sklearn-color-line: gray;\n",
       "  /* Definition of color scheme for unfitted estimators */\n",
       "  --sklearn-color-unfitted-level-0: #fff5e6;\n",
       "  --sklearn-color-unfitted-level-1: #f6e4d2;\n",
       "  --sklearn-color-unfitted-level-2: #ffe0b3;\n",
       "  --sklearn-color-unfitted-level-3: chocolate;\n",
       "  /* Definition of color scheme for fitted estimators */\n",
       "  --sklearn-color-fitted-level-0: #f0f8ff;\n",
       "  --sklearn-color-fitted-level-1: #d4ebff;\n",
       "  --sklearn-color-fitted-level-2: #b3dbfd;\n",
       "  --sklearn-color-fitted-level-3: cornflowerblue;\n",
       "\n",
       "  /* Specific color for light theme */\n",
       "  --sklearn-color-text-on-default-background: var(--sg-text-color, var(--theme-code-foreground, var(--jp-content-font-color1, black)));\n",
       "  --sklearn-color-background: var(--sg-background-color, var(--theme-background, var(--jp-layout-color0, white)));\n",
       "  --sklearn-color-border-box: var(--sg-text-color, var(--theme-code-foreground, var(--jp-content-font-color1, black)));\n",
       "  --sklearn-color-icon: #696969;\n",
       "\n",
       "  @media (prefers-color-scheme: dark) {\n",
       "    /* Redefinition of color scheme for dark theme */\n",
       "    --sklearn-color-text-on-default-background: var(--sg-text-color, var(--theme-code-foreground, var(--jp-content-font-color1, white)));\n",
       "    --sklearn-color-background: var(--sg-background-color, var(--theme-background, var(--jp-layout-color0, #111)));\n",
       "    --sklearn-color-border-box: var(--sg-text-color, var(--theme-code-foreground, var(--jp-content-font-color1, white)));\n",
       "    --sklearn-color-icon: #878787;\n",
       "  }\n",
       "}\n",
       "\n",
       "#sk-container-id-1 {\n",
       "  color: var(--sklearn-color-text);\n",
       "}\n",
       "\n",
       "#sk-container-id-1 pre {\n",
       "  padding: 0;\n",
       "}\n",
       "\n",
       "#sk-container-id-1 input.sk-hidden--visually {\n",
       "  border: 0;\n",
       "  clip: rect(1px 1px 1px 1px);\n",
       "  clip: rect(1px, 1px, 1px, 1px);\n",
       "  height: 1px;\n",
       "  margin: -1px;\n",
       "  overflow: hidden;\n",
       "  padding: 0;\n",
       "  position: absolute;\n",
       "  width: 1px;\n",
       "}\n",
       "\n",
       "#sk-container-id-1 div.sk-dashed-wrapped {\n",
       "  border: 1px dashed var(--sklearn-color-line);\n",
       "  margin: 0 0.4em 0.5em 0.4em;\n",
       "  box-sizing: border-box;\n",
       "  padding-bottom: 0.4em;\n",
       "  background-color: var(--sklearn-color-background);\n",
       "}\n",
       "\n",
       "#sk-container-id-1 div.sk-container {\n",
       "  /* jupyter's `normalize.less` sets `[hidden] { display: none; }`\n",
       "     but bootstrap.min.css set `[hidden] { display: none !important; }`\n",
       "     so we also need the `!important` here to be able to override the\n",
       "     default hidden behavior on the sphinx rendered scikit-learn.org.\n",
       "     See: https://github.com/scikit-learn/scikit-learn/issues/21755 */\n",
       "  display: inline-block !important;\n",
       "  position: relative;\n",
       "}\n",
       "\n",
       "#sk-container-id-1 div.sk-text-repr-fallback {\n",
       "  display: none;\n",
       "}\n",
       "\n",
       "div.sk-parallel-item,\n",
       "div.sk-serial,\n",
       "div.sk-item {\n",
       "  /* draw centered vertical line to link estimators */\n",
       "  background-image: linear-gradient(var(--sklearn-color-text-on-default-background), var(--sklearn-color-text-on-default-background));\n",
       "  background-size: 2px 100%;\n",
       "  background-repeat: no-repeat;\n",
       "  background-position: center center;\n",
       "}\n",
       "\n",
       "/* Parallel-specific style estimator block */\n",
       "\n",
       "#sk-container-id-1 div.sk-parallel-item::after {\n",
       "  content: \"\";\n",
       "  width: 100%;\n",
       "  border-bottom: 2px solid var(--sklearn-color-text-on-default-background);\n",
       "  flex-grow: 1;\n",
       "}\n",
       "\n",
       "#sk-container-id-1 div.sk-parallel {\n",
       "  display: flex;\n",
       "  align-items: stretch;\n",
       "  justify-content: center;\n",
       "  background-color: var(--sklearn-color-background);\n",
       "  position: relative;\n",
       "}\n",
       "\n",
       "#sk-container-id-1 div.sk-parallel-item {\n",
       "  display: flex;\n",
       "  flex-direction: column;\n",
       "}\n",
       "\n",
       "#sk-container-id-1 div.sk-parallel-item:first-child::after {\n",
       "  align-self: flex-end;\n",
       "  width: 50%;\n",
       "}\n",
       "\n",
       "#sk-container-id-1 div.sk-parallel-item:last-child::after {\n",
       "  align-self: flex-start;\n",
       "  width: 50%;\n",
       "}\n",
       "\n",
       "#sk-container-id-1 div.sk-parallel-item:only-child::after {\n",
       "  width: 0;\n",
       "}\n",
       "\n",
       "/* Serial-specific style estimator block */\n",
       "\n",
       "#sk-container-id-1 div.sk-serial {\n",
       "  display: flex;\n",
       "  flex-direction: column;\n",
       "  align-items: center;\n",
       "  background-color: var(--sklearn-color-background);\n",
       "  padding-right: 1em;\n",
       "  padding-left: 1em;\n",
       "}\n",
       "\n",
       "\n",
       "/* Toggleable style: style used for estimator/Pipeline/ColumnTransformer box that is\n",
       "clickable and can be expanded/collapsed.\n",
       "- Pipeline and ColumnTransformer use this feature and define the default style\n",
       "- Estimators will overwrite some part of the style using the `sk-estimator` class\n",
       "*/\n",
       "\n",
       "/* Pipeline and ColumnTransformer style (default) */\n",
       "\n",
       "#sk-container-id-1 div.sk-toggleable {\n",
       "  /* Default theme specific background. It is overwritten whether we have a\n",
       "  specific estimator or a Pipeline/ColumnTransformer */\n",
       "  background-color: var(--sklearn-color-background);\n",
       "}\n",
       "\n",
       "/* Toggleable label */\n",
       "#sk-container-id-1 label.sk-toggleable__label {\n",
       "  cursor: pointer;\n",
       "  display: block;\n",
       "  width: 100%;\n",
       "  margin-bottom: 0;\n",
       "  padding: 0.5em;\n",
       "  box-sizing: border-box;\n",
       "  text-align: center;\n",
       "}\n",
       "\n",
       "#sk-container-id-1 label.sk-toggleable__label-arrow:before {\n",
       "  /* Arrow on the left of the label */\n",
       "  content: \"▸\";\n",
       "  float: left;\n",
       "  margin-right: 0.25em;\n",
       "  color: var(--sklearn-color-icon);\n",
       "}\n",
       "\n",
       "#sk-container-id-1 label.sk-toggleable__label-arrow:hover:before {\n",
       "  color: var(--sklearn-color-text);\n",
       "}\n",
       "\n",
       "/* Toggleable content - dropdown */\n",
       "\n",
       "#sk-container-id-1 div.sk-toggleable__content {\n",
       "  max-height: 0;\n",
       "  max-width: 0;\n",
       "  overflow: hidden;\n",
       "  text-align: left;\n",
       "  /* unfitted */\n",
       "  background-color: var(--sklearn-color-unfitted-level-0);\n",
       "}\n",
       "\n",
       "#sk-container-id-1 div.sk-toggleable__content.fitted {\n",
       "  /* fitted */\n",
       "  background-color: var(--sklearn-color-fitted-level-0);\n",
       "}\n",
       "\n",
       "#sk-container-id-1 div.sk-toggleable__content pre {\n",
       "  margin: 0.2em;\n",
       "  border-radius: 0.25em;\n",
       "  color: var(--sklearn-color-text);\n",
       "  /* unfitted */\n",
       "  background-color: var(--sklearn-color-unfitted-level-0);\n",
       "}\n",
       "\n",
       "#sk-container-id-1 div.sk-toggleable__content.fitted pre {\n",
       "  /* unfitted */\n",
       "  background-color: var(--sklearn-color-fitted-level-0);\n",
       "}\n",
       "\n",
       "#sk-container-id-1 input.sk-toggleable__control:checked~div.sk-toggleable__content {\n",
       "  /* Expand drop-down */\n",
       "  max-height: 200px;\n",
       "  max-width: 100%;\n",
       "  overflow: auto;\n",
       "}\n",
       "\n",
       "#sk-container-id-1 input.sk-toggleable__control:checked~label.sk-toggleable__label-arrow:before {\n",
       "  content: \"▾\";\n",
       "}\n",
       "\n",
       "/* Pipeline/ColumnTransformer-specific style */\n",
       "\n",
       "#sk-container-id-1 div.sk-label input.sk-toggleable__control:checked~label.sk-toggleable__label {\n",
       "  color: var(--sklearn-color-text);\n",
       "  background-color: var(--sklearn-color-unfitted-level-2);\n",
       "}\n",
       "\n",
       "#sk-container-id-1 div.sk-label.fitted input.sk-toggleable__control:checked~label.sk-toggleable__label {\n",
       "  background-color: var(--sklearn-color-fitted-level-2);\n",
       "}\n",
       "\n",
       "/* Estimator-specific style */\n",
       "\n",
       "/* Colorize estimator box */\n",
       "#sk-container-id-1 div.sk-estimator input.sk-toggleable__control:checked~label.sk-toggleable__label {\n",
       "  /* unfitted */\n",
       "  background-color: var(--sklearn-color-unfitted-level-2);\n",
       "}\n",
       "\n",
       "#sk-container-id-1 div.sk-estimator.fitted input.sk-toggleable__control:checked~label.sk-toggleable__label {\n",
       "  /* fitted */\n",
       "  background-color: var(--sklearn-color-fitted-level-2);\n",
       "}\n",
       "\n",
       "#sk-container-id-1 div.sk-label label.sk-toggleable__label,\n",
       "#sk-container-id-1 div.sk-label label {\n",
       "  /* The background is the default theme color */\n",
       "  color: var(--sklearn-color-text-on-default-background);\n",
       "}\n",
       "\n",
       "/* On hover, darken the color of the background */\n",
       "#sk-container-id-1 div.sk-label:hover label.sk-toggleable__label {\n",
       "  color: var(--sklearn-color-text);\n",
       "  background-color: var(--sklearn-color-unfitted-level-2);\n",
       "}\n",
       "\n",
       "/* Label box, darken color on hover, fitted */\n",
       "#sk-container-id-1 div.sk-label.fitted:hover label.sk-toggleable__label.fitted {\n",
       "  color: var(--sklearn-color-text);\n",
       "  background-color: var(--sklearn-color-fitted-level-2);\n",
       "}\n",
       "\n",
       "/* Estimator label */\n",
       "\n",
       "#sk-container-id-1 div.sk-label label {\n",
       "  font-family: monospace;\n",
       "  font-weight: bold;\n",
       "  display: inline-block;\n",
       "  line-height: 1.2em;\n",
       "}\n",
       "\n",
       "#sk-container-id-1 div.sk-label-container {\n",
       "  text-align: center;\n",
       "}\n",
       "\n",
       "/* Estimator-specific */\n",
       "#sk-container-id-1 div.sk-estimator {\n",
       "  font-family: monospace;\n",
       "  border: 1px dotted var(--sklearn-color-border-box);\n",
       "  border-radius: 0.25em;\n",
       "  box-sizing: border-box;\n",
       "  margin-bottom: 0.5em;\n",
       "  /* unfitted */\n",
       "  background-color: var(--sklearn-color-unfitted-level-0);\n",
       "}\n",
       "\n",
       "#sk-container-id-1 div.sk-estimator.fitted {\n",
       "  /* fitted */\n",
       "  background-color: var(--sklearn-color-fitted-level-0);\n",
       "}\n",
       "\n",
       "/* on hover */\n",
       "#sk-container-id-1 div.sk-estimator:hover {\n",
       "  /* unfitted */\n",
       "  background-color: var(--sklearn-color-unfitted-level-2);\n",
       "}\n",
       "\n",
       "#sk-container-id-1 div.sk-estimator.fitted:hover {\n",
       "  /* fitted */\n",
       "  background-color: var(--sklearn-color-fitted-level-2);\n",
       "}\n",
       "\n",
       "/* Specification for estimator info (e.g. \"i\" and \"?\") */\n",
       "\n",
       "/* Common style for \"i\" and \"?\" */\n",
       "\n",
       ".sk-estimator-doc-link,\n",
       "a:link.sk-estimator-doc-link,\n",
       "a:visited.sk-estimator-doc-link {\n",
       "  float: right;\n",
       "  font-size: smaller;\n",
       "  line-height: 1em;\n",
       "  font-family: monospace;\n",
       "  background-color: var(--sklearn-color-background);\n",
       "  border-radius: 1em;\n",
       "  height: 1em;\n",
       "  width: 1em;\n",
       "  text-decoration: none !important;\n",
       "  margin-left: 1ex;\n",
       "  /* unfitted */\n",
       "  border: var(--sklearn-color-unfitted-level-1) 1pt solid;\n",
       "  color: var(--sklearn-color-unfitted-level-1);\n",
       "}\n",
       "\n",
       ".sk-estimator-doc-link.fitted,\n",
       "a:link.sk-estimator-doc-link.fitted,\n",
       "a:visited.sk-estimator-doc-link.fitted {\n",
       "  /* fitted */\n",
       "  border: var(--sklearn-color-fitted-level-1) 1pt solid;\n",
       "  color: var(--sklearn-color-fitted-level-1);\n",
       "}\n",
       "\n",
       "/* On hover */\n",
       "div.sk-estimator:hover .sk-estimator-doc-link:hover,\n",
       ".sk-estimator-doc-link:hover,\n",
       "div.sk-label-container:hover .sk-estimator-doc-link:hover,\n",
       ".sk-estimator-doc-link:hover {\n",
       "  /* unfitted */\n",
       "  background-color: var(--sklearn-color-unfitted-level-3);\n",
       "  color: var(--sklearn-color-background);\n",
       "  text-decoration: none;\n",
       "}\n",
       "\n",
       "div.sk-estimator.fitted:hover .sk-estimator-doc-link.fitted:hover,\n",
       ".sk-estimator-doc-link.fitted:hover,\n",
       "div.sk-label-container:hover .sk-estimator-doc-link.fitted:hover,\n",
       ".sk-estimator-doc-link.fitted:hover {\n",
       "  /* fitted */\n",
       "  background-color: var(--sklearn-color-fitted-level-3);\n",
       "  color: var(--sklearn-color-background);\n",
       "  text-decoration: none;\n",
       "}\n",
       "\n",
       "/* Span, style for the box shown on hovering the info icon */\n",
       ".sk-estimator-doc-link span {\n",
       "  display: none;\n",
       "  z-index: 9999;\n",
       "  position: relative;\n",
       "  font-weight: normal;\n",
       "  right: .2ex;\n",
       "  padding: .5ex;\n",
       "  margin: .5ex;\n",
       "  width: min-content;\n",
       "  min-width: 20ex;\n",
       "  max-width: 50ex;\n",
       "  color: var(--sklearn-color-text);\n",
       "  box-shadow: 2pt 2pt 4pt #999;\n",
       "  /* unfitted */\n",
       "  background: var(--sklearn-color-unfitted-level-0);\n",
       "  border: .5pt solid var(--sklearn-color-unfitted-level-3);\n",
       "}\n",
       "\n",
       ".sk-estimator-doc-link.fitted span {\n",
       "  /* fitted */\n",
       "  background: var(--sklearn-color-fitted-level-0);\n",
       "  border: var(--sklearn-color-fitted-level-3);\n",
       "}\n",
       "\n",
       ".sk-estimator-doc-link:hover span {\n",
       "  display: block;\n",
       "}\n",
       "\n",
       "/* \"?\"-specific style due to the `<a>` HTML tag */\n",
       "\n",
       "#sk-container-id-1 a.estimator_doc_link {\n",
       "  float: right;\n",
       "  font-size: 1rem;\n",
       "  line-height: 1em;\n",
       "  font-family: monospace;\n",
       "  background-color: var(--sklearn-color-background);\n",
       "  border-radius: 1rem;\n",
       "  height: 1rem;\n",
       "  width: 1rem;\n",
       "  text-decoration: none;\n",
       "  /* unfitted */\n",
       "  color: var(--sklearn-color-unfitted-level-1);\n",
       "  border: var(--sklearn-color-unfitted-level-1) 1pt solid;\n",
       "}\n",
       "\n",
       "#sk-container-id-1 a.estimator_doc_link.fitted {\n",
       "  /* fitted */\n",
       "  border: var(--sklearn-color-fitted-level-1) 1pt solid;\n",
       "  color: var(--sklearn-color-fitted-level-1);\n",
       "}\n",
       "\n",
       "/* On hover */\n",
       "#sk-container-id-1 a.estimator_doc_link:hover {\n",
       "  /* unfitted */\n",
       "  background-color: var(--sklearn-color-unfitted-level-3);\n",
       "  color: var(--sklearn-color-background);\n",
       "  text-decoration: none;\n",
       "}\n",
       "\n",
       "#sk-container-id-1 a.estimator_doc_link.fitted:hover {\n",
       "  /* fitted */\n",
       "  background-color: var(--sklearn-color-fitted-level-3);\n",
       "}\n",
       "</style><div id=\"sk-container-id-1\" class=\"sk-top-container\"><div class=\"sk-text-repr-fallback\"><pre>RandomForestRegressor(random_state=42)</pre><b>In a Jupyter environment, please rerun this cell to show the HTML representation or trust the notebook. <br />On GitHub, the HTML representation is unable to render, please try loading this page with nbviewer.org.</b></div><div class=\"sk-container\" hidden><div class=\"sk-item\"><div class=\"sk-estimator fitted sk-toggleable\"><input class=\"sk-toggleable__control sk-hidden--visually\" id=\"sk-estimator-id-1\" type=\"checkbox\" checked><label for=\"sk-estimator-id-1\" class=\"sk-toggleable__label fitted sk-toggleable__label-arrow fitted\">&nbsp;&nbsp;RandomForestRegressor<a class=\"sk-estimator-doc-link fitted\" rel=\"noreferrer\" target=\"_blank\" href=\"https://scikit-learn.org/1.5/modules/generated/sklearn.ensemble.RandomForestRegressor.html\">?<span>Documentation for RandomForestRegressor</span></a><span class=\"sk-estimator-doc-link fitted\">i<span>Fitted</span></span></label><div class=\"sk-toggleable__content fitted\"><pre>RandomForestRegressor(random_state=42)</pre></div> </div></div></div></div>"
      ],
      "text/plain": [
       "RandomForestRegressor(random_state=42)"
      ]
     },
     "execution_count": 31,
     "metadata": {},
     "output_type": "execute_result"
    }
   ],
   "source": [
    "from sklearn.ensemble import RandomForestRegressor\n",
    "model = RandomForestRegressor(n_estimators=100, random_state=42)\n",
    "model.fit(X_train, Y_train)"
   ]
  },
  {
   "cell_type": "code",
   "execution_count": 33,
   "id": "5f206ec1-70f7-4b53-b5ef-07fa32575fa7",
   "metadata": {},
   "outputs": [
    {
     "name": "stdout",
     "output_type": "stream",
     "text": [
      "power                        0.689673\n",
      "mileage                      0.310256\n",
      "offer_type_Used              0.000050\n",
      "offer_type_New               0.000012\n",
      "offer_type_Demonstration     0.000007\n",
      "offer_type_Pre-registered    0.000002\n",
      "dtype: float64\n"
     ]
    }
   ],
   "source": [
    "feature_importances = pd.Series(model.feature_importances_, index=X.columns)\n",
    "print(feature_importances.sort_values(ascending=False))"
   ]
  },
  {
   "cell_type": "code",
   "execution_count": 36,
   "id": "0474cc0e-c118-41d0-ba4c-2877a42e43b7",
   "metadata": {},
   "outputs": [],
   "source": [
    "Y_pred = model.predict(X_test)"
   ]
  },
  {
   "cell_type": "code",
   "execution_count": 37,
   "id": "ee9d8c54-47bf-4a86-8948-8839ec17b8b9",
   "metadata": {},
   "outputs": [
    {
     "name": "stdout",
     "output_type": "stream",
     "text": [
      "MAE: 78244.28459699023\n",
      "MSE: 57671211893871.87\n",
      "RMSE: 7594156.430695372\n",
      "R² Score: 9.790921656693818e-05\n"
     ]
    },
    {
     "name": "stderr",
     "output_type": "stream",
     "text": [
      "C:\\Users\\Asus\\AppData\\Local\\Programs\\Python\\Python310\\lib\\site-packages\\sklearn\\metrics\\_regression.py:492: FutureWarning: 'squared' is deprecated in version 1.4 and will be removed in 1.6. To calculate the root mean squared error, use the function'root_mean_squared_error'.\n",
      "  warnings.warn(\n"
     ]
    }
   ],
   "source": [
    "from sklearn.metrics import mean_absolute_error, mean_squared_error, r2_score\n",
    "\n",
    "print(\"MAE:\", mean_absolute_error(Y_test, Y_pred))\n",
    "print(\"MSE:\", mean_squared_error(Y_test, Y_pred))\n",
    "print(\"RMSE:\", mean_squared_error(Y_test, Y_pred, squared=False))\n",
    "print(\"R² Score:\", r2_score(Y_test, Y_pred))\n"
   ]
  },
  {
   "cell_type": "code",
   "execution_count": null,
   "id": "34775d34-5eed-4098-a07f-e537bdf9c195",
   "metadata": {},
   "outputs": [],
   "source": []
  }
 ],
 "metadata": {
  "kernelspec": {
   "display_name": "Python 3 (ipykernel)",
   "language": "python",
   "name": "python3"
  },
  "language_info": {
   "codemirror_mode": {
    "name": "ipython",
    "version": 3
   },
   "file_extension": ".py",
   "mimetype": "text/x-python",
   "name": "python",
   "nbconvert_exporter": "python",
   "pygments_lexer": "ipython3",
   "version": "3.10.4"
  }
 },
 "nbformat": 4,
 "nbformat_minor": 5
}
